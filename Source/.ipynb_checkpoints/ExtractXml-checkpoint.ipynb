{
 "cells": [
  {
   "cell_type": "code",
   "execution_count": 3,
   "metadata": {},
   "outputs": [],
   "source": [
    "from extract import extractData\n",
    "from pymongo import MongoClient"
   ]
  },
  {
   "cell_type": "code",
   "execution_count": 4,
   "metadata": {},
   "outputs": [],
   "source": [
    "from pprint import pprint"
   ]
  },
  {
   "cell_type": "markdown",
   "metadata": {},
   "source": [
    "## Data Base"
   ]
  },
  {
   "cell_type": "code",
   "execution_count": 5,
   "metadata": {},
   "outputs": [],
   "source": [
    "client = MongoClient('localhost')"
   ]
  },
  {
   "cell_type": "code",
   "execution_count": 6,
   "metadata": {},
   "outputs": [],
   "source": [
    "db = client.ABSAReseñas"
   ]
  },
  {
   "cell_type": "code",
   "execution_count": 7,
   "metadata": {},
   "outputs": [],
   "source": [
    "trainingdb = db.TrainingSet\n",
    "testdb = db.TestSet\n",
    "trialdb = db.TrialSet"
   ]
  },
  {
   "cell_type": "markdown",
   "metadata": {},
   "source": [
    "## Extract Training data"
   ]
  },
  {
   "cell_type": "code",
   "execution_count": 5,
   "metadata": {},
   "outputs": [],
   "source": [
    "extractData(\"../Data/Training data/SemEval-2016ABSA Restaurants-Spanish_Train_Subtask2.xml\",trainingdb)"
   ]
  },
  {
   "cell_type": "markdown",
   "metadata": {},
   "source": [
    "## Extract Test data"
   ]
  },
  {
   "cell_type": "code",
   "execution_count": 6,
   "metadata": {},
   "outputs": [],
   "source": [
    "extractData(\"../Data/Test data/SP_REST_SB2_TEST.xml.gold\",testdb)"
   ]
  },
  {
   "cell_type": "markdown",
   "metadata": {},
   "source": [
    "## Extract Trial data"
   ]
  },
  {
   "cell_type": "code",
   "execution_count": 7,
   "metadata": {},
   "outputs": [],
   "source": [
    "extractData(\"../Data/Trial data/sp_restaurants_trial_sb2.xml\",trialdb)"
   ]
  },
  {
   "cell_type": "code",
   "execution_count": 8,
   "metadata": {},
   "outputs": [
    {
     "name": "stdout",
     "output_type": "stream",
     "text": [
      "627\n"
     ]
    }
   ],
   "source": [
    "print(trainingdb.count_documents({}))"
   ]
  },
  {
   "cell_type": "code",
   "execution_count": 11,
   "metadata": {},
   "outputs": [
    {
     "name": "stdout",
     "output_type": "stream",
     "text": [
      "{'Aspects': ['RESTAURANT', 'SERVICE', 'AMBIENCE', 'FOOD'],\n",
      " 'CleanReview': 'Nos sentimos muy a gusto. Buen servicio, ambiente Acogedor  y '\n",
      "                'tranquilo, comida bien. Muy recomendable',\n",
      " 'CleanSentences': ['Nos sentimos muy a gusto.',\n",
      "                    'Buen servicio, ambiente Acogedor  y tranquilo, comida '\n",
      "                    'bien.',\n",
      "                    'Muy recomendable'],\n",
      " 'ID': 'es_9reinas_10_JordiCollGranell_2014-09-21',\n",
      " 'Polarities': ['positive', 'positive', 'positive', 'positive'],\n",
      " 'Review': 'Nos sentimos muy a gusto. Buen servicio, ambiente Acogedor  y '\n",
      "           'tranquilo, comida bien. Muy recomendable',\n",
      " 'Sentences': ['Nos sentimos muy a gusto.',\n",
      "               'Buen servicio, ambiente Acogedor  y tranquilo, comida bien.',\n",
      "               'Muy recomendable'],\n",
      " '_id': ObjectId('5f8fb7327f67a5fb46b54e1d')}\n",
      "{'Aspects': ['SERVICE', 'FOOD', 'FOOD', 'RESTAURANT'],\n",
      " 'CleanReview': 'La atencion es muy buena, los camareros estan muy pendientes '\n",
      "                'de uno todo el tiempo. Y la comida espectacular, por eso lo '\n",
      "                'bueno se paga... Lo unico que vi flojo es que pedi un poco de '\n",
      "                'salsa provenzal y nos la cobraron, por lo demas todo bien.',\n",
      " 'CleanSentences': ['La atencion es muy buena, los camareros estan muy '\n",
      "                    'pendientes de uno todo el tiempo.',\n",
      "                    'Y la comida espectacular, por eso lo bueno se paga...',\n",
      "                    'Lo unico que vi flojo es que pedi un poco de salsa '\n",
      "                    'provenzal y nos la cobraron, por lo demas todo bien.'],\n",
      " 'ID': 'es_9reinas_12_RomanAlimena_2014-09-04',\n",
      " 'Polarities': ['positive', 'positive', 'negative', 'positive'],\n",
      " 'Review': 'La atencion es muy buena, los camareros estan muy pendientes de '\n",
      "           'uno todo el tiempo. Y la comida espectacular, por eso lo bueno se '\n",
      "           'paga... Lo unico que vi flojo es que pedi un poco de salsa '\n",
      "           'provenzal y nos la cobraron, por lo demas todo bien.',\n",
      " 'Sentences': ['La atencion es muy buena, los camareros estan muy pendientes '\n",
      "               'de uno todo el tiempo.',\n",
      "               'Y la comida espectacular, por eso lo bueno se paga...',\n",
      "               'Lo unico que vi flojo es que pedi un poco de salsa provenzal y '\n",
      "               'nos la cobraron, por lo demas todo bien.'],\n",
      " '_id': ObjectId('5f8fb7327f67a5fb46b54e1e')}\n",
      "{'Aspects': ['RESTAURANT', 'FOOD', 'FOOD'],\n",
      " 'CleanReview': 'Nada especial. Me habían comentado maravillas y está bien, '\n",
      "                'pero nada más. Las carnes bien, pero como muchas otras. El '\n",
      "                'precio, por lo que es la comida, para mi gusto es elevado.',\n",
      " 'CleanSentences': ['Nada especial.',\n",
      "                    'Me habían comentado maravillas y está bien, pero nada '\n",
      "                    'más.',\n",
      "                    'Las carnes bien, pero como muchas otras.',\n",
      "                    'El precio, por lo que es la comida, para mi gusto es '\n",
      "                    'elevado.'],\n",
      " 'ID': 'es_9reinas_14_AngelEspanolPuig_2014-06-26',\n",
      " 'Polarities': ['neutral', 'neutral', 'negative'],\n",
      " 'Review': 'Nada especial. Me habían comentado maravillas y está bien, pero '\n",
      "           'nada más. Las carnes bien, pero como muchas otras. El precio, por '\n",
      "           'lo que es la comida, para mi gusto es elevado.',\n",
      " 'Sentences': ['Nada especial.',\n",
      "               'Me habían comentado maravillas y está bien, pero nada más.',\n",
      "               'Las carnes bien, pero como muchas otras.',\n",
      "               'El precio, por lo que es la comida, para mi gusto es elevado.'],\n",
      " '_id': ObjectId('5f8fb7327f67a5fb46b54e1f')}\n",
      "{'Aspects': ['FOOD', 'SERVICE', 'AMBIENCE', 'RESTAURANT'],\n",
      " 'CleanReview': 'la calidad del producto, el servicio, el entorno todo fue '\n",
      "                'excelente',\n",
      " 'CleanSentences': ['la calidad del producto, el servicio, el entorno todo fue '\n",
      "                    'excelente'],\n",
      " 'ID': 'es_9reinas_17_JoseCarlosLopez_2014-02-24',\n",
      " 'Polarities': ['positive', 'positive', 'positive', 'positive'],\n",
      " 'Review': 'la calidad del producto, el servicio, el entorno todo fue '\n",
      "           'excelente',\n",
      " 'Sentences': ['la calidad del producto, el servicio, el entorno todo fue '\n",
      "               'excelente'],\n",
      " '_id': ObjectId('5f8fb7327f67a5fb46b54e20')}\n",
      "{'Aspects': ['RESTAURANT', 'SERVICE', 'FOOD', 'RESTAURANT', 'FOOD'],\n",
      " 'CleanReview': '9reinas ya sido una de las mejores experiencias que hemos '\n",
      "                'tenido en los últimos años. El servicio es muy bueno y la '\n",
      "                'calidad de la comida al mismo nivel. Los precios adecuados  y '\n",
      "                'bien puedes hacer un mayor o menor gasto en función de tu '\n",
      "                'bolsillo por que la carta es muy amplia. Volveremos.',\n",
      " 'CleanSentences': ['9reinas ya sido una de las mejores experiencias que hemos '\n",
      "                    'tenido en los últimos años.',\n",
      "                    'El servicio es muy bueno y la calidad de la comida al '\n",
      "                    'mismo nivel.',\n",
      "                    'Los precios adecuados  y bien puedes hacer un mayor o '\n",
      "                    'menor gasto en función de tu bolsillo por que la carta es '\n",
      "                    'muy amplia.',\n",
      "                    'Volveremos.'],\n",
      " 'ID': 'es_9reinas_18_DanielGonzalez_2014-02-01',\n",
      " 'Polarities': ['positive', 'positive', 'positive', 'positive', 'positive'],\n",
      " 'Review': '9reinas ya sido una de las mejores experiencias que hemos tenido '\n",
      "           'en los últimos años. El servicio es muy bueno y la calidad de la '\n",
      "           'comida al mismo nivel. Los precios adecuados  y bien puedes hacer '\n",
      "           'un mayor o menor gasto en función de tu bolsillo por que la carta '\n",
      "           'es muy amplia. Volveremos.',\n",
      " 'Sentences': ['9reinas ya sido una de las mejores experiencias que hemos '\n",
      "               'tenido en los últimos años.',\n",
      "               'El servicio es muy bueno y la calidad de la comida al mismo '\n",
      "               'nivel.',\n",
      "               'Los precios adecuados  y bien puedes hacer un mayor o menor '\n",
      "               'gasto en función de tu bolsillo por que la carta es muy '\n",
      "               'amplia.',\n",
      "               'Volveremos.'],\n",
      " '_id': ObjectId('5f8fb7327f67a5fb46b54e21')}\n"
     ]
    }
   ],
   "source": [
    "for doc in trainingdb.find({}).limit(5):\n",
    "    pprint(doc)"
   ]
  },
  {
   "cell_type": "code",
   "execution_count": 17,
   "metadata": {},
   "outputs": [
    {
     "name": "stdout",
     "output_type": "stream",
     "text": [
      "{'_id': ObjectId('5f8fb73d7f67a5fb46b55090'), 'ID': 'es_9reinas_0_MonicaNavarroOlive_2015-04-19', 'Review': 'La comida estuvo muy sabrosa. Quien sea amante de la carne tiene una carta bastante amplia para elegir., aunque ayer  no tenían  chuleton. Lo único que nos sorprendió es que nos sirvieran los entrantes y los platos principales a la vez.', 'Sentences': ['La comida estuvo muy sabrosa.', 'Quien sea amante de la carne tiene una carta bastante amplia para elegir., aunque ayer  no tenían  chuleton.', 'Lo único que nos sorprendió es que nos sirvieran los entrantes y los platos principales a la vez.'], 'Aspects': ['FOOD', 'FOOD', 'SERVICE', 'RESTAURANT'], 'Polarities': ['positive', 'positive', 'negative', 'positive']}\n",
      "{'_id': ObjectId('5f8fb73e7f67a5fb46b55091'), 'ID': 'es_9reinas_11_CarlosPerezAlvarez_2014-09-14', 'Review': 'Buff, No se donde empezar! El Servicio y la atencion,Impresionante. La Carne,Phenomenal Las Tapas y Bebidas y el Ambiente,Extraurinadio Yo ya e celebrado muchos Cumpleaños en Restaurantes,pero jamas me han tratado tan bien y me han hecho tantos Detalles k me gusto y emociono un monton. Asi k se os lo quereis pasar Fenomenal,a que esperais. Reservar Mesa,que en 9 Reinas merece la pena. Gracias Equipo', 'Sentences': ['Buff,', 'No se donde empezar!', 'El Servicio y la atencion,Impresionante.', 'La Carne,Phenomenal', 'Las Tapas y Bebidas y el Ambiente,Extraurinadio', 'Yo ya e celebrado muchos Cumpleaños en Restaurantes,pero jamas me han tratado tan bien y me han hecho tantos Detalles k me gusto y emociono un monton.', 'Asi k se os lo quereis pasar Fenomenal,a que esperais.', 'Reservar Mesa,que en 9 Reinas merece la pena.', 'Gracias Equipo'], 'Aspects': ['SERVICE', 'FOOD', 'DRINKS', 'AMBIENCE', 'RESTAURANT'], 'Polarities': ['positive', 'positive', 'positive', 'positive', 'positive']}\n",
      "{'_id': ObjectId('5f8fb73e7f67a5fb46b55092'), 'ID': 'es_9reinas_13_MaraKacic_2014-08-06', 'Review': 'Siempre que venimos a Barcelona vamos a comer o cenar. Imperdible! Carnes excelentes y las pastas buenísimas (especialmente los sorrentinos!). El sitio es muy agradable y los camareros muy simpáticos y atentos. Seguiremos haciendo una visita cada vez que vengamos a Barna!', 'Sentences': ['Siempre que venimos a Barcelona vamos a comer o cenar.', 'Imperdible!', 'Carnes excelentes y las pastas buenísimas (especialmente los sorrentinos!).', 'El sitio es muy agradable y los camareros muy simpáticos y atentos.', 'Seguiremos haciendo una visita cada vez que vengamos a Barna!'], 'Aspects': ['RESTAURANT', 'FOOD', 'AMBIENCE', 'SERVICE'], 'Polarities': ['positive', 'positive', 'positive', 'positive']}\n",
      "{'_id': ObjectId('5f8fb73e7f67a5fb46b55093'), 'ID': 'es_9reinas_1_Cg_2015-04-14', 'Review': 'Estuve con mi pareja el día 10 de abril, celebrando mi cumpleaños qué fue el día anterior. Fuimos a 9R por una opinión en ésta misma página que lo ponía muy bien, y estamos totalmente de acuerdo con esa opinión. En 9R nos trataron genial, Julio era atento, cordial y divertido, nos trató de maravilla al igual q los demás. El restaurante es elegante, decorado con gusto, por poner una pega creo q la iluminación (2º piso) es muy fuerte, podrían poner una luz más suave o caliente.... ésta sería la única pega q puedo ponerles y es una chorrada pq la comida es excelente y el trato es un 10, nos invitaron a tarta y cava sin razón alguna! Volveremos seguro!!! 100% recomendable!', 'Sentences': ['Estuve con mi pareja el día 10 de abril, celebrando mi cumpleaños qué fue el día anterior.', 'Fuimos a 9R por una opinión en ésta misma página que lo ponía muy bien, y estamos totalmente de acuerdo con esa opinión.', 'En 9R nos trataron genial, Julio era atento, cordial y divertido, nos trató de maravilla al igual q los demás.', 'El restaurante es elegante, decorado con gusto, por poner una pega creo q la iluminación (2º piso) es muy fuerte, podrían poner una luz más suave o caliente.... ésta sería la única pega q puedo ponerles y es una chorrada pq la comida es excelente y el trato es un 10, nos invitaron a tarta y cava sin razón alguna!', 'Volveremos seguro!!!', '100% recomendable!'], 'Aspects': ['RESTAURANT', 'SERVICE', 'AMBIENCE', 'FOOD'], 'Polarities': ['positive', 'positive', 'positive', 'positive']}\n",
      "{'_id': ObjectId('5f8fb73e7f67a5fb46b55094'), 'ID': 'es_9reinas_21_ClaudiaVelutini_2014-01-01', 'Review': 'una excelente experiencia, una excelente disposición y buena atención. La comida divina.', 'Sentences': ['una excelente experiencia, una excelente disposición y buena atención.', 'La comida divina.'], 'Aspects': ['AMBIENCE', 'RESTAURANT', 'SERVICE', 'FOOD'], 'Polarities': ['positive', 'positive', 'positive', 'positive']}\n",
      "{'_id': ObjectId('5f8fb73e7f67a5fb46b55095'), 'ID': 'es_9reinas_25_MariaMercePalmaBisbal_2013-12-16', 'Review': 'Estuvimos cenando y nos encanto todo. El espacio muy relajante, colores que hacen sobrio los rincones. La atención del personal impecable. La comida inmejorable. El detalle de la invitación del entrante por parte del restaurante, inesperado y agradecido. Muchas gracias en Mayúsculas!!!!', 'Sentences': ['Estuvimos cenando y nos encanto todo.', 'El espacio muy relajante, colores que hacen sobrio los rincones.', 'La atención del personal impecable.', 'La comida inmejorable.', 'El detalle de la invitación del entrante por parte del restaurante, inesperado y agradecido.', 'Muchas gracias en Mayúsculas!!!!'], 'Aspects': ['RESTAURANT', 'AMBIENCE', 'SERVICE', 'FOOD'], 'Polarities': ['positive', 'positive', 'positive', 'positive']}\n",
      "{'_id': ObjectId('5f8fb73e7f67a5fb46b55096'), 'ID': 'es_9reinas_28_JoseManuelBarcenaFernandez_2013-07-20', 'Review': 'Un sitio recomendable en pleno centro de barcelona', 'Sentences': ['Un sitio recomendable en pleno centro de barcelona'], 'Aspects': ['LOCATION', 'RESTAURANT'], 'Polarities': ['positive', 'positive']}\n",
      "{'_id': ObjectId('5f8fb73e7f67a5fb46b55097'), 'ID': 'es_9reinas_34_MariaAngst-Quinonero_2013-04-06', 'Review': 'Pedir una mesa en el primer piso. La puerta de entrada es automatica y si hace frio, uno nota la corriente.', 'Sentences': ['Pedir una mesa en el primer piso.', 'La puerta de entrada es automatica y si hace frio, uno nota la corriente.'], 'Aspects': ['AMBIENCE', 'RESTAURANT'], 'Polarities': ['negative', 'negative']}\n",
      "{'_id': ObjectId('5f8fb73e7f67a5fb46b55098'), 'ID': 'es_9reinas_36_LuisAlbertoReyesFigueroa_2013-03-24', 'Review': 'La mejor carne que he comido en Barcelona.', 'Sentences': ['La mejor carne que he comido en Barcelona.'], 'Aspects': ['FOOD', 'RESTAURANT'], 'Polarities': ['positive', 'positive']}\n",
      "{'_id': ObjectId('5f8fb73e7f67a5fb46b55099'), 'ID': 'es_9reinas_39_Seasexandsun_2013-01-07', 'Review': 'Mejor carne de BCN.', 'Sentences': ['Mejor carne de BCN.'], 'Aspects': ['FOOD', 'RESTAURANT'], 'Polarities': ['positive', 'positive']}\n"
     ]
    }
   ],
   "source": [
    "for doc in testdb.find({}).limit(10):\n",
    "    print(doc)"
   ]
  },
  {
   "cell_type": "code",
   "execution_count": 18,
   "metadata": {},
   "outputs": [
    {
     "name": "stdout",
     "output_type": "stream",
     "text": [
      "{'_id': ObjectId('5f8fb7407f67a5fb46b5519c'), 'ID': 'es_la-scala-zaragoza_comment-4006', 'Review': 'En Zaragoza hay Restaurantes correctos, buenos, muy buenos,Restaurantes a los que no vuelves, los que pasan desapercibidos, mediocres y pésimos como por ejemplo La Scala. Afirmar que en ese local se pueden degustar verdaderas delicias es una auténtica temeridad. Para olvidar. ', 'Sentences': ['En Zaragoza hay Restaurantes correctos, buenos, muy buenos,Restaurantes a los que no vuelves, los que pasan desapercibidos, mediocres y pésimos como por ejemplo La Scala.', 'Afirmar que en ese local se pueden degustar verdaderas delicias es una auténtica temeridad.', 'Para olvidar. '], 'Aspects': ['RESTAURANT', 'FOOD'], 'Polarities': ['negative', 'negative']}\n",
      "{'_id': ObjectId('5f8fb7407f67a5fb46b5519d'), 'ID': 'es_barceloneta_8_AntonioSerranoPueyo_2015-05-30', 'Review': 'Fui, una vez más, con un amigo a comer al Restaurante Barceloneta. Nunca defrauda. Productos de calidad óptima, elaborados magníficamente. Siempre es igual de excelente, con un servicio impecable. Un Jefe de Sala que siempre recuerda y saluda a los cliente habituales, aunque hayan pasado meses desde la última vez que visitaron el restaurante. Un valor seguro. Un \"Blue chip\" de la restauración.', 'Sentences': ['Fui, una vez más, con un amigo a comer al Restaurante Barceloneta.', 'Nunca defrauda.', 'Productos de calidad óptima, elaborados magníficamente.', 'Siempre es igual de excelente, con un servicio impecable.', 'Un Jefe de Sala que siempre recuerda y saluda a los cliente habituales, aunque hayan pasado meses desde la última vez que visitaron el restaurante.', 'Un valor seguro.', 'Un \"Blue chip\" de la restauración.'], 'Aspects': ['RESTAURANT', 'FOOD', 'SERVICE'], 'Polarities': ['positive', 'positive', 'positive']}\n",
      "{'_id': ObjectId('5f8fb7407f67a5fb46b5519e'), 'ID': 'es_l_olive_22_IsabelSanchezSanchdez_2012-01-07', 'Review': 'Es muy buen restaurante. Ya habiamos estado en el anterior en la calle muntaner. Este es mucho mas elegante, el trato muy correcto y la ambientacion te hace sentir muy a gusto. La comida de calidad. Recomiendo los calçots rebozados. Sin duda repetiremos.', 'Sentences': ['Es muy buen restaurante.', 'Ya habiamos estado en el anterior en la calle muntaner.', 'Este es mucho mas elegante, el trato muy correcto y la ambientacion te hace sentir muy a gusto.', 'La comida de calidad.', 'Recomiendo los calçots rebozados.', 'Sin duda repetiremos.'], 'Aspects': ['RESTAURANT', 'SERVICE', 'AMBIENCE', 'FOOD'], 'Polarities': ['positive', 'positive', 'positive', 'positive']}\n",
      "{'_id': ObjectId('5f8fb7407f67a5fb46b5519f'), 'ID': 'es_balmes_rossello_83_CarlosLopezRodriguez_2012-12-23', 'Review': 'Perfecto.', 'Sentences': ['Perfecto.'], 'Aspects': ['RESTAURANT'], 'Polarities': ['positive']}\n",
      "{'_id': ObjectId('5f8fb7407f67a5fb46b551a0'), 'ID': 'es_colette-zaragoza_comment-1142', 'Review': 'Ayer estuvimos cenando en Colette. ¡Excelente cena! Hacía mucho tiempo que un restaurante en Zaragoza no me sorprendía de esta manera: Gran calidad del producto, numerosos detalles, puntos de cocción perfectos en casi todos los platos, raciones abundantes y un precio elevado pero ajustado a la calidad.El servicio fue atento y educado aunque tuvo algún pequeño fallo (como servir la segunda botella de vino en las copas en que aún quedaba algo de la anterior)De comienzo una buena variedad de panes (pizza, oliva verde, oliva negra, …) con un cuenquito de aceite de oliva con tomate mozzarella y albahaca. Unos aperitivos ofrecidos por la casa con un cóctel de martini blanco enfriado con nitrógeno líquido y una pastilla de foie mi-cuit envuelto en frambuesa con sidral y algodón de coco. Muy logrados ambos. Como entrantes compartimos:- un carpaccio de buey de Kobe, excelente, sabrosísimo.- una tempura de comenillas rellenas de foie y alchofas- una cola entera de bogavante a la plancha con salsa de su coral (muy sabrosa, aunque un poco pasada de punto)Antes del segundo la casa nos ofreció un pinco de membrillo y queso en tempura presentado en un palo de canela encendido. Muy original presentación y muy lograda la combinación.Los segundos fueron un poco más tradicionales: - Solomillo con foie y setas de temporada: gigantesca ración y punto exactamente como se pidió, cosa poco común. - Jarrete a baja temperatura con salsa caramelizada y puré trufado. Extraordinario sabor y textura. - Rape con couscous y chipirón. Gran taco de rape cocido en su punto y muy sabroso. - Pichón. Sólo las pechugas. Tal vez pod´ria haber estado un poco menos hecho, pero muy sabroso y también acompañado por un excelente puré. Otro entretenimiento de la casa antes del postre con unas migas con fresas deshidratadas y confitadas con sopa de vainilla (servida en una copita de hielo secos para que hiciera un efecto de volcán burbujeante). Espectacular y muy sabroso. Sólo pedimos dos postres y la verdad es que fueron lo más flojo de la cena: - Una tarta crujiente de manzana con helado de vainilla.- Un coulante de chocolate con helado de marron glacé. Cuando ya estábamos terminando los cafés nos trajeron unos pastelillos. Ahí se quedaron la mayoría, eran bastante normalillos y además ya no podíamos más.En resumen 280 € para 4 personas incluyendo dos botellas de Enate Merlot-merlot (que contribuyeron en 60 € a la cuenta)Creo que una cuenta nada desproporcionada con la calidad y cantidad de la comida y de los detalles que nos ofrecieron. Un buen sitio, a seguir. Si mantienen el nivel de innovación y calidad puede ser un soplo de aire fresco en Zaragoza. P.D. Por lo que leo en comentarios anteriores han debido reducir los precios, pues ayer la tempura de colmenillas y foie costaba 18 € y no los 22 que se mencionan en otro comentario. Si es así, bien hecho. ', 'Sentences': ['Ayer estuvimos cenando en Colette.', '¡Excelente cena!', 'Hacía mucho tiempo que un restaurante en Zaragoza no me sorprendía de esta manera: Gran calidad del producto, numerosos detalles, puntos de cocción perfectos en casi todos los platos, raciones abundantes y un precio elevado pero ajustado a la calidad.El servicio fue atento y educado aunque tuvo algún pequeño fallo (como servir la segunda botella de vino en las copas en que aún quedaba algo de la anterior)De comienzo una buena variedad de panes (pizza, oliva verde, oliva negra, …) con un cuenquito de aceite de oliva con tomate mozzarella y albahaca.', 'Unos aperitivos ofrecidos por la casa con un cóctel de martini blanco enfriado con nitrógeno líquido y una pastilla de foie mi-cuit envuelto en frambuesa con sidral y algodón de coco.', 'Muy logrados ambos.', 'Como entrantes compartimos:- un carpaccio de buey de Kobe, excelente, sabrosísimo.- una tempura de comenillas rellenas de foie y alchofas- una cola entera de bogavante a la plancha con salsa de su coral (muy sabrosa, aunque un poco pasada de punto)Antes del segundo la casa nos ofreció un pinco de membrillo y queso en tempura presentado en un palo de canela encendido.', 'Muy original presentación y muy lograda la combinación.Los segundos fueron un poco más tradicionales:', '- Solomillo con foie y setas de temporada: gigantesca ración y punto exactamente como se pidió, cosa poco común.', '- Jarrete a baja temperatura con salsa caramelizada y puré trufado.', 'Extraordinario sabor y textura.', '- Rape con couscous y chipirón.', 'Gran taco de rape cocido en su punto y muy sabroso.', '- Pichón.', 'Sólo las pechugas.', 'Tal vez pod´ria haber estado un poco menos hecho, pero muy sabroso y también acompañado por un excelente puré.', 'Otro entretenimiento de la casa antes del postre con unas migas con fresas deshidratadas y confitadas con sopa de vainilla (servida en una copita de hielo secos para que hiciera un efecto de volcán burbujeante).', 'Espectacular y muy sabroso.', 'Sólo pedimos dos postres y la verdad es que fueron lo más flojo de la cena:', '- Una tarta crujiente de manzana con helado de vainilla.- Un coulante de chocolate con helado de marron glacé.', 'Cuando ya estábamos terminando los cafés nos trajeron unos pastelillos.', 'Ahí se quedaron la mayoría, eran bastante normalillos y además ya no podíamos más.En resumen 280 € para 4 personas incluyendo dos botellas de Enate Merlot-merlot (que contribuyeron en 60 € a la cuenta)Creo que una cuenta nada desproporcionada con la calidad y cantidad de la comida y de los detalles que nos ofrecieron.', 'Un buen sitio, a seguir.', 'Si mantienen el nivel de innovación y calidad puede ser un soplo de aire fresco en Zaragoza.', 'P.D.', 'Por lo que leo en comentarios anteriores han debido reducir los precios, pues ayer la tempura de colmenillas y foie costaba 18 € y no los 22 que se mencionan en otro comentario.', 'Si es así, bien hecho. '], 'Aspects': ['FOOD', 'FOOD', 'RESTAURANT', 'SERVICE', 'RESTAURANT'], 'Polarities': ['positive', 'positive', 'neutral', 'neutral', 'positive']}\n",
      "{'_id': ObjectId('5f8fb7407f67a5fb46b551a1'), 'ID': 'es_9reinas_55_JoseMCazorlaMontero_2011-11-03', 'Review': 'Tomamos Vacío y Entrañas (especialidades conocidas, entre otras cosas, por lo blando de su carne). En algunos momentos, nos llegamos a preguntar si lo que teníamos en la boca era carne o un trozo de neumático. Decepcionante...', 'Sentences': ['Tomamos Vacío y Entrañas (especialidades conocidas, entre otras cosas, por lo blando de su carne).', 'En algunos momentos, nos llegamos a preguntar si lo que teníamos en la boca era carne o un trozo de neumático.', 'Decepcionante...'], 'Aspects': ['FOOD', 'RESTAURANT'], 'Polarities': ['negative', 'negative']}\n",
      "{'_id': ObjectId('5f8fb7407f67a5fb46b551a2'), 'ID': 'es_l_olive_74_Claudia_2008-05-16', 'Review': 'estuvimos ayer mi marido y yo para celebrar su cumpleaños. Y la verdad que lo pasamos estupendo. La comida muy pero muy buena, áun me acuerdo del foie y de mangret de pato con salsa de fresa. Me ha encantado. Es verdad que los camareros van con mucha prisa, pero a nosotros nos ha ido bien, porque después de cenar teníamos que ir al teatro, y aun así salimos del restaurante corriendo.', 'Sentences': ['estuvimos ayer mi marido y yo para celebrar su cumpleaños.', 'Y la verdad que lo pasamos estupendo.', 'La comida muy pero muy buena, áun me acuerdo del foie y de mangret de pato con salsa de fresa.', 'Me ha encantado.', 'Es verdad que los camareros van con mucha prisa, pero a nosotros nos ha ido bien, porque después de cenar teníamos que ir al teatro, y aun así salimos del restaurante corriendo.'], 'Aspects': ['RESTAURANT', 'FOOD', 'SERVICE'], 'Polarities': ['positive', 'positive', 'positive']}\n",
      "{'_id': ObjectId('5f8fb7407f67a5fb46b551a3'), 'ID': 'es_barceloneta_61_ConsueloMateosCandeleda_2012-04-07', 'Review': 'A pesar de ser un restaurante de pescado y marisco, mi marido encontró buenísimo el filete a la pimienta verde que pidió. El trato muy bueno. Yo pedí una mesa bien situada y atendieron la petición, nos dieron una con muy buenas vistas.', 'Sentences': ['A pesar de ser un restaurante de pescado y marisco, mi marido encontró buenísimo el filete a la pimienta verde que pidió.', 'El trato muy bueno.', 'Yo pedí una mesa bien situada y atendieron la petición, nos dieron una con muy buenas vistas.'], 'Aspects': ['FOOD', 'SERVICE', 'AMBIENCE', 'RESTAURANT'], 'Polarities': ['positive', 'positive', 'positive', 'positive']}\n",
      "{'_id': ObjectId('5f8fb7407f67a5fb46b551a4'), 'ID': 'es_barceloneta_120_Gabriela_2008-07-18', 'Review': 'Servicio impecable y se come de maravilla!', 'Sentences': ['Servicio impecable y se come de maravilla!'], 'Aspects': ['SERVICE', 'RESTAURANT'], 'Polarities': ['positive', 'positive']}\n",
      "{'_id': ObjectId('5f8fb7407f67a5fb46b551a5'), 'ID': 'es_salamanca_18_BegHispaniaLuisClaver_2014-12-15', 'Review': 'Nos pusieron en la terraza, sin avisar previamente. En la mesa faltaban 3 cubiertos, habiendo confirmado previamente el número de comensales el mismo día. Había un nivel de ruido excesivamente alto, muy molesto y del menú que contratamos casi no vimos ni un plato, prácticamente, nos trajeron prácticamente lo que quisieron.', 'Sentences': ['Nos pusieron en la terraza, sin avisar previamente.', 'En la mesa faltaban 3 cubiertos, habiendo confirmado previamente el número de comensales el mismo día.', 'Había un nivel de ruido excesivamente alto, muy molesto y del menú que contratamos casi no vimos ni un plato, prácticamente, nos trajeron prácticamente lo que quisieron.'], 'Aspects': ['AMBIENCE', 'SERVICE', 'FOOD', 'RESTAURANT'], 'Polarities': ['negative', 'negative', 'negative', 'negative']}\n"
     ]
    }
   ],
   "source": [
    "for doc in trialdb.find({}).limit(10):\n",
    "    print(doc)"
   ]
  },
  {
   "cell_type": "code",
   "execution_count": null,
   "metadata": {},
   "outputs": [],
   "source": []
  }
 ],
 "metadata": {
  "kernelspec": {
   "display_name": "Python 3",
   "language": "python",
   "name": "python3"
  },
  "language_info": {
   "codemirror_mode": {
    "name": "ipython",
    "version": 3
   },
   "file_extension": ".py",
   "mimetype": "text/x-python",
   "name": "python",
   "nbconvert_exporter": "python",
   "pygments_lexer": "ipython3",
   "version": "3.7.7"
  }
 },
 "nbformat": 4,
 "nbformat_minor": 4
}
